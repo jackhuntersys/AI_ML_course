{
 "cells": [
  {
   "cell_type": "markdown",
   "metadata": {},
   "source": [
    "# Istalgan list tuzing va uni darsimizda o'tilgan barcha yordamchi funksiyalarni ishlatib chiqing(appen,insert,remove,pop,sort,reverse)"
   ]
  },
  {
   "cell_type": "markdown",
   "metadata": {},
   "source": []
  }
 ],
 "metadata": {
  "language_info": {
   "name": "python"
  }
 },
 "nbformat": 4,
 "nbformat_minor": 2
}
