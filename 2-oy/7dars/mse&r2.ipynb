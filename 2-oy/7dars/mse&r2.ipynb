{
 "cells": [
  {
   "cell_type": "code",
   "execution_count": 4,
   "metadata": {},
   "outputs": [],
   "source": [
    "from tabulate import tabulate"
   ]
  },
  {
   "cell_type": "code",
   "execution_count": 12,
   "metadata": {},
   "outputs": [
    {
     "data": {
      "text/plain": [
       "[[45, 55], [35, 43], [56, 68], [22, 27]]"
      ]
     },
     "execution_count": 12,
     "metadata": {},
     "output_type": "execute_result"
    }
   ],
   "source": [
    "x = [45, 35 , 56 , 22]\n",
    "y = [55, 43 , 68 , 27]\n",
    "table = []\n",
    "for i in range(len(x)):\n",
    "    table.append([x[i],y[i]])\n",
    "   \n",
    "table\n"
   ]
  },
  {
   "cell_type": "code",
   "execution_count": 10,
   "metadata": {},
   "outputs": [
    {
     "name": "stdout",
     "output_type": "stream",
     "text": [
      "+-----+-----+\n",
      "|   x |   y |\n",
      "+=====+=====+\n",
      "|  45 |  55 |\n",
      "+-----+-----+\n",
      "|  35 |  43 |\n",
      "+-----+-----+\n",
      "|  56 |  68 |\n",
      "+-----+-----+\n",
      "|  22 |  27 |\n",
      "+-----+-----+\n"
     ]
    }
   ],
   "source": [
    "print(tabulate(table, headers=['x', 'y'] ,tablefmt='grid'))"
   ]
  },
  {
   "cell_type": "code",
   "execution_count": 1,
   "metadata": {},
   "outputs": [],
   "source": [
    "from sklearn.metrics import mean_squared_error, r2_score"
   ]
  },
  {
   "cell_type": "markdown",
   "metadata": {},
   "source": [
    "# Find Regression Line\n"
   ]
  },
  {
   "cell_type": "markdown",
   "metadata": {},
   "source": [
    "\n",
    "\n",
    "y = mx+b \n",
    "y - dependent value\n",
    "x - independent value\n",
    "m - slope (o'zgarish)\n",
    "b - intercept (grafik y oqini kesish nuqtasi)\n",
    "\n",
    "\n",
    "The formula for the slope is:\n",
    "    m =  (n∑(xy)−∑x∑y)  / n∑x^2−(∑x)^2\n",
    "\n",
    "  \n",
    "    ∑(xy)  = (45*55) + (35*43)+ (56*68) + (22*27) = 8382\n",
    "    ∑x = 45+35+56+22 = 158\n",
    "    ∑y = 55+43+68+27 = 193\n",
    "    ∑x^2 = 6870\n",
    "    (∑x)^2  = 24964\n",
    "\n",
    " Calculate slope:\n",
    "\n",
    "    m = (4*8382 -158*193) / 4*6870 -24964 =  (33528-30494) / (27480- 24964) = 3034/2516 = 1.205\n",
    "\n",
    "    Slope m = 1.205\n",
    "\n",
    "\n",
    "The formula for the intercept is:\n",
    "b= (∑y−m∑x) / n   = (193 - 1.205*158) / 4 = (193-190.39) / 4 = 2.61/4 = 0.65\n",
    "\n",
    "\n",
    "Final Regression Line  -           y = 1.205*x + 0.65"
   ]
  },
  {
   "cell_type": "code",
   "execution_count": 22,
   "metadata": {},
   "outputs": [
    {
     "name": "stdout",
     "output_type": "stream",
     "text": [
      " ∑(xy) =  8382\n",
      " ∑x = 158\n",
      " ∑y = 193\n",
      " ∑x^2 = 6870\n",
      " (∑x)^2 = 24964\n"
     ]
    }
   ],
   "source": [
    "sum_of_xy = 0\n",
    "sum_of_x = 0\n",
    "sum_of_y = 0\n",
    "sum_of_x2 = 0\n",
    "\n",
    "for list in table:\n",
    "    sum_of_xy+=list[0] * list[1]\n",
    "    sum_of_x += list[0]\n",
    "    sum_of_y+=list[1]\n",
    "    sum_of_x2+=list[0]**2\n",
    "    \n",
    "sqr_sum_of_x = sum_of_x**2\n",
    "print(f\" ∑(xy) =  {sum_of_xy}\")\n",
    "print(f\" ∑x = {sum_of_x}\")\n",
    "print(f\" ∑y = {sum_of_y}\")\n",
    "print(f\" ∑x^2 = {sum_of_x2}\")\n",
    "print(f\" (∑x)^2 = {sqr_sum_of_x}\")"
   ]
  },
  {
   "cell_type": "markdown",
   "metadata": {},
   "source": [
    "# Find MSE"
   ]
  },
  {
   "cell_type": "markdown",
   "metadata": {},
   "source": [
    "Formula MSE\n",
    "  MSE= =(1/n) * ∑​(y​−y_pred​)^2 \n",
    "\n",
    "  y_pred is predicted value of y by  y =  1.205*x + 0.65 \n",
    "  "
   ]
  },
  {
   "cell_type": "code",
   "execution_count": 27,
   "metadata": {},
   "outputs": [
    {
     "data": {
      "text/plain": [
       "[54.88, 42.83, 68.13, 27.16]"
      ]
     },
     "execution_count": 27,
     "metadata": {},
     "output_type": "execute_result"
    }
   ],
   "source": [
    "# Find sum of  y_pred\n",
    "\n",
    "y_pred_list = []\n",
    "for val in x :\n",
    "    y_pred_list.append(round(1.205*val+0.65, 2))\n",
    "\n",
    "y_pred_list"
   ]
  },
  {
   "cell_type": "code",
   "execution_count": null,
   "metadata": {},
   "outputs": [],
   "source": [
    "# Calculate  MSE\n",
    "\n",
    "MSE = 1/4 * (55-54.88)^2 + (43-42.83)^2 + (68-68.13)^2 + (27-27.16)^2  = 1/4 * 0.085 = 0.066\n",
    "\n",
    "\n",
    "# Calculate R2\n",
    "\n"
   ]
  },
  {
   "cell_type": "markdown",
   "metadata": {},
   "source": [
    "# Calculate R2 score\n"
   ]
  },
  {
   "cell_type": "markdown",
   "metadata": {},
   "source": []
  },
  {
   "cell_type": "markdown",
   "metadata": {},
   "source": [
    "R2 =  1−​(SS_res/SS_tot)​     #  calculate the R² (coefficient of determination) formula\n",
    "\n",
    "Where:\n",
    "\n",
    "    SS_res = ∑(y − y_pred​)^2   →   Residual sum of squares\n",
    "    SS_tot = ∑(y − y_mean​)^2  →  Total sum of squares\n",
    "    y = Actual values\n",
    "    y_pred​ = Predicted values\n",
    "    y_mean​ = Mean of the actual values\n",
    "\n",
    "y_mean = (55+43+68+27) / 4  = 48.25\n",
    "\n",
    "∑(y −y_mean​)^2   = (55-48.25)^2 + (43-48.25)^2 + (68-48.25)^2 + (27-48.25)^2 = 914.74\n",
    "\n",
    "R2 = 1 - (0.85/914.75) = 0.999"
   ]
  },
  {
   "cell_type": "code",
   "execution_count": null,
   "metadata": {},
   "outputs": [],
   "source": [
    "MSE  = 0.066\n",
    "R2 = 0.999"
   ]
  },
  {
   "cell_type": "code",
   "execution_count": null,
   "metadata": {},
   "outputs": [],
   "source": []
  }
 ],
 "metadata": {
  "kernelspec": {
   "display_name": "AI+ML_course_amaliyot-8lQVJ-6X",
   "language": "python",
   "name": "python3"
  },
  "language_info": {
   "codemirror_mode": {
    "name": "ipython",
    "version": 3
   },
   "file_extension": ".py",
   "mimetype": "text/x-python",
   "name": "python",
   "nbconvert_exporter": "python",
   "pygments_lexer": "ipython3",
   "version": "3.12.4"
  }
 },
 "nbformat": 4,
 "nbformat_minor": 2
}
