{
 "cells": [
  {
   "cell_type": "code",
   "execution_count": null,
   "metadata": {},
   "outputs": [
    {
     "name": "stdout",
     "output_type": "stream",
     "text": [
      "<class 'pandas.core.frame.DataFrame'>\n",
      "RangeIndex: 11914 entries, 0 to 11913\n",
      "Data columns (total 16 columns):\n",
      " #   Column             Non-Null Count  Dtype  \n",
      "---  ------             --------------  -----  \n",
      " 0   Make               11914 non-null  object \n",
      " 1   Model              11914 non-null  object \n",
      " 2   Year               11914 non-null  int64  \n",
      " 3   Engine Fuel Type   11911 non-null  object \n",
      " 4   Engine HP          11845 non-null  float64\n",
      " 5   Engine Cylinders   11884 non-null  float64\n",
      " 6   Transmission Type  11914 non-null  object \n",
      " 7   Driven_Wheels      11914 non-null  object \n",
      " 8   Number of Doors    11908 non-null  float64\n",
      " 9   Market Category    8172 non-null   object \n",
      " 10  Vehicle Size       11914 non-null  object \n",
      " 11  Vehicle Style      11914 non-null  object \n",
      " 12  highway MPG        11914 non-null  int64  \n",
      " 13  city mpg           11914 non-null  int64  \n",
      " 14  Popularity         11914 non-null  int64  \n",
      " 15  MSRP               11914 non-null  int64  \n",
      "dtypes: float64(3), int64(5), object(8)\n",
      "memory usage: 1.5+ MB\n"
     ]
    }
   ],
   "source": [
    "import pandas as pd\n",
    "import numpy as np\n",
    "df = pd.read_csv(r'D:\\2025 lessons\\AI+ML course amaliyot\\Datasets\\Car features and MSRP\\data.csv')\n",
    "df.info()        # target value is MSRP = Manufacturer's Suggested Retail Price"
   ]
  },
  {
   "cell_type": "code",
   "execution_count": 63,
   "metadata": {},
   "outputs": [],
   "source": [
    "import klib    \n",
    "\n"
   ]
  },
  {
   "cell_type": "code",
   "execution_count": 64,
   "metadata": {},
   "outputs": [
    {
     "name": "stdout",
     "output_type": "stream",
     "text": [
      "Shape of cleaned data: (11199, 16) - Remaining NAs: 3484\n",
      "\n",
      "\n",
      "Dropped rows: 715\n",
      "     of which 715 duplicates. (Rows (first 150 shown): [14, 18, 20, 24, 25, 88, 92, 94, 109, 126, 137, 141, 252, 413, 414, 431, 432, 435, 436, 677, 741, 742, 753, 775, 778, 783, 787, 788, 789, 901, 903, 913, 916, 919, 987, 988, 1283, 1470, 1755, 1756, 1757, 1758, 1759, 1761, 1762, 1763, 1764, 1768, 1770, 1773, 1775, 1776, 1802, 1804, 1806, 1807, 1810, 1811, 1812, 1813, 1816, 1818, 1819, 1820, 1830, 1837, 1841, 1842, 1844, 1845, 1847, 1848, 1851, 1853, 1856, 1857, 1858, 1859, 1860, 1865, 1871, 1872, 1874, 1875, 1876, 1877, 1878, 1879, 1880, 1888, 1889, 1890, 1899, 1905, 1908, 1909, 1911, 1914, 1915, 1916, 1917, 1918, 1919, 1920, 1924, 1925, 1926, 1928, 1929, 1936, 1939, 1940, 1942, 1944, 1945, 1946, 1947, 1948, 2019, 2021, 2024, 2026, 2027, 2028, 2029, 2030, 2043, 2118, 2124, 2125, 2127, 2245, 2252, 2262, 2313, 2397, 2400, 2401, 2402, 2403, 2409, 2410, 2412, 2413, 2415, 2416, 2417, 2418, 2420, 2422])\n",
      "\n",
      "Dropped columns: 0\n",
      "     of which 0 single valued.     Columns: []\n",
      "Dropped missing values: 366\n",
      "Reduced memory by at least: 1.03 MB (-71.03%)\n",
      "\n",
      "<class 'pandas.core.frame.DataFrame'>\n",
      "RangeIndex: 11199 entries, 0 to 11198\n",
      "Data columns (total 16 columns):\n",
      " #   Column             Non-Null Count  Dtype   \n",
      "---  ------             --------------  -----   \n",
      " 0   make               11199 non-null  category\n",
      " 1   model              11199 non-null  string  \n",
      " 2   year               11199 non-null  int16   \n",
      " 3   engine_fuel_type   11196 non-null  category\n",
      " 4   engine_hp          11130 non-null  float32 \n",
      " 5   engine_cylinders   11169 non-null  float32 \n",
      " 6   transmission_type  11199 non-null  category\n",
      " 7   driven_wheels      11199 non-null  category\n",
      " 8   number_of_doors    11193 non-null  float32 \n",
      " 9   market_category    7823 non-null   category\n",
      " 10  vehicle_size       11199 non-null  category\n",
      " 11  vehicle_style      11199 non-null  category\n",
      " 12  highway_mpg        11199 non-null  int16   \n",
      " 13  city_mpg           11199 non-null  int16   \n",
      " 14  popularity         11199 non-null  int16   \n",
      " 15  msrp               11199 non-null  int32   \n",
      "dtypes: category(7), float32(3), int16(4), int32(1), string(1)\n",
      "memory usage: 432.3 KB\n"
     ]
    }
   ],
   "source": [
    "df = klib.data_cleaning(df)    # ! klib bilan data cleaning qilindi\n",
    "df.info()"
   ]
  },
  {
   "cell_type": "markdown",
   "metadata": {},
   "source": [
    "# Missing value\n"
   ]
  },
  {
   "cell_type": "code",
   "execution_count": 65,
   "metadata": {},
   "outputs": [
    {
     "data": {
      "text/plain": [
       "make                    0\n",
       "model                   0\n",
       "year                    0\n",
       "engine_fuel_type        3\n",
       "engine_hp              69\n",
       "engine_cylinders       30\n",
       "transmission_type       0\n",
       "driven_wheels           0\n",
       "number_of_doors         6\n",
       "market_category      3376\n",
       "vehicle_size            0\n",
       "vehicle_style           0\n",
       "highway_mpg             0\n",
       "city_mpg                0\n",
       "popularity              0\n",
       "msrp                    0\n",
       "dtype: int64"
      ]
     },
     "execution_count": 65,
     "metadata": {},
     "output_type": "execute_result"
    }
   ],
   "source": [
    "df.isnull().sum()"
   ]
  },
  {
   "cell_type": "code",
   "execution_count": 66,
   "metadata": {},
   "outputs": [],
   "source": [
    "# category_col = df.select_dtypes(include=['category']).columns\n"
   ]
  },
  {
   "cell_type": "code",
   "execution_count": 67,
   "metadata": {},
   "outputs": [
    {
     "data": {
      "text/plain": [
       "Index(['engine_fuel_type', 'engine_hp', 'engine_cylinders', 'number_of_doors',\n",
       "       'market_category'],\n",
       "      dtype='object')"
      ]
     },
     "execution_count": 67,
     "metadata": {},
     "output_type": "execute_result"
    }
   ],
   "source": [
    "df.columns[df.isnull().any()]"
   ]
  },
  {
   "cell_type": "code",
   "execution_count": 68,
   "metadata": {},
   "outputs": [
    {
     "data": {
      "text/plain": [
       "make                 0\n",
       "model                0\n",
       "year                 0\n",
       "engine_fuel_type     0\n",
       "engine_hp            0\n",
       "engine_cylinders     0\n",
       "transmission_type    0\n",
       "driven_wheels        0\n",
       "number_of_doors      0\n",
       "market_category      0\n",
       "vehicle_size         0\n",
       "vehicle_style        0\n",
       "highway_mpg          0\n",
       "city_mpg             0\n",
       "popularity           0\n",
       "msrp                 0\n",
       "dtype: int64"
      ]
     },
     "execution_count": 68,
     "metadata": {},
     "output_type": "execute_result"
    }
   ],
   "source": [
    "from scipy.stats import skew        # * importing skewness\n",
    "\n",
    "for col in df.columns[df.isnull().any()]:         \n",
    "    if df[col].dtypes == 'category':\n",
    "        df[col] = df[col].fillna(df[col].mode()[0])    # ! 'category' type mode()[0] orqali filling qilindi\n",
    "    else:\n",
    "        skewness = df[col].skew()\n",
    "        if  1< skewness < -1 :\n",
    "            df[col] = df[col].fillna(df[col].median())  # ! skewed data median() orqali fill qilindi     \n",
    "        else:\n",
    "            df[col] = df[col].fillna(df[col].mean())     # ! normal data mean() orqali fill qilindi\n",
    "df.isnull().sum()    "
   ]
  },
  {
   "cell_type": "code",
   "execution_count": 69,
   "metadata": {},
   "outputs": [
    {
     "name": "stdout",
     "output_type": "stream",
     "text": [
      "<class 'pandas.core.frame.DataFrame'>\n",
      "RangeIndex: 11199 entries, 0 to 11198\n",
      "Data columns (total 16 columns):\n",
      " #   Column             Non-Null Count  Dtype   \n",
      "---  ------             --------------  -----   \n",
      " 0   make               11199 non-null  category\n",
      " 1   model              11199 non-null  string  \n",
      " 2   year               11199 non-null  int16   \n",
      " 3   engine_fuel_type   11199 non-null  category\n",
      " 4   engine_hp          11199 non-null  float32 \n",
      " 5   engine_cylinders   11199 non-null  float32 \n",
      " 6   transmission_type  11199 non-null  category\n",
      " 7   driven_wheels      11199 non-null  category\n",
      " 8   number_of_doors    11199 non-null  float32 \n",
      " 9   market_category    11199 non-null  category\n",
      " 10  vehicle_size       11199 non-null  category\n",
      " 11  vehicle_style      11199 non-null  category\n",
      " 12  highway_mpg        11199 non-null  int16   \n",
      " 13  city_mpg           11199 non-null  int16   \n",
      " 14  popularity         11199 non-null  int16   \n",
      " 15  msrp               11199 non-null  int32   \n",
      "dtypes: category(7), float32(3), int16(4), int32(1), string(1)\n",
      "memory usage: 432.3 KB\n"
     ]
    }
   ],
   "source": [
    "df.info()"
   ]
  },
  {
   "cell_type": "markdown",
   "metadata": {},
   "source": [
    "# Checking skewness of numeric values"
   ]
  },
  {
   "cell_type": "code",
   "execution_count": 70,
   "metadata": {},
   "outputs": [
    {
     "data": {
      "text/plain": [
       "year               -1.260226\n",
       "engine_hp           1.250334\n",
       "engine_cylinders    0.938263\n",
       "number_of_doors    -1.019178\n",
       "highway_mpg         7.759682\n",
       "city_mpg            7.093660\n",
       "popularity          1.628305\n",
       "dtype: float64"
      ]
     },
     "execution_count": 70,
     "metadata": {},
     "output_type": "execute_result"
    }
   ],
   "source": [
    "numeric_cols = df.select_dtypes(include=['float32', 'int16', 'int32']).columns\n",
    "df[numeric_cols].skew()"
   ]
  },
  {
   "cell_type": "code",
   "execution_count": 71,
   "metadata": {},
   "outputs": [
    {
     "name": "stdout",
     "output_type": "stream",
     "text": [
      "<class 'pandas.core.frame.DataFrame'>\n",
      "RangeIndex: 11199 entries, 0 to 11198\n",
      "Data columns (total 16 columns):\n",
      " #   Column                   Non-Null Count  Dtype   \n",
      "---  ------                   --------------  -----   \n",
      " 0   make                     11199 non-null  category\n",
      " 1   model                    11199 non-null  string  \n",
      " 2   engine_fuel_type         11199 non-null  category\n",
      " 3   transmission_type        11199 non-null  category\n",
      " 4   driven_wheels            11199 non-null  category\n",
      " 5   market_category          11199 non-null  category\n",
      " 6   vehicle_size             11199 non-null  category\n",
      " 7   vehicle_style            11199 non-null  category\n",
      " 8   msrp                     11199 non-null  int32   \n",
      " 9   powered year             11199 non-null  int16   \n",
      " 10  logged engine_hp         11199 non-null  float32 \n",
      " 11  logged engine_cylinders  11199 non-null  float32 \n",
      " 12  powered number_of_doors  11199 non-null  float32 \n",
      " 13  logged highway_mpg       11199 non-null  float32 \n",
      " 14  logged city_mpg          11199 non-null  float32 \n",
      " 15  logged popularity        11199 non-null  float32 \n",
      "dtypes: category(7), float32(6), int16(1), int32(1), string(1)\n",
      "memory usage: 497.9 KB\n"
     ]
    }
   ],
   "source": [
    "\n",
    "\n",
    "# skewness>0.5    log(square root)\n",
    "# skewness<-0.5 power\n",
    "# Skewness=0\n",
    "\n",
    "for col in numeric_cols:\n",
    "   \n",
    "    if df[col].skew() >0.5:                     \n",
    "        df[f'logged {col}'] = np.log1p(df[col])       # !   do logarifm(1+x) when skewness > 0.5 \n",
    "        df.drop(columns={col}, inplace=True)          # !  dropping logged column\n",
    "    elif df[col].skew() < -0.5: \n",
    "        df[f'powered {col}'] = np.power(df[col],2)    # !   do power x2 when skewness <- 0.5 \n",
    "        df.drop(columns={col}, inplace=True)          # !  dropping powered column\n",
    "       \n",
    "df.info()"
   ]
  },
  {
   "cell_type": "code",
   "execution_count": null,
   "metadata": {},
   "outputs": [
    {
     "data": {
      "text/plain": [
       "powered year               0.083177\n",
       "logged engine_hp           0.026671\n",
       "logged engine_cylinders   -1.094833\n",
       "powered number_of_doors   -0.996388\n",
       "logged highway_mpg         0.895898\n",
       "logged city_mpg            1.609000\n",
       "logged popularity         -0.747735\n",
       "dtype: float64"
      ]
     },
     "execution_count": 72,
     "metadata": {},
     "output_type": "execute_result"
    }
   ],
   "source": [
    "numeric_cols = df.select_dtypes(include=['float32', 'int16', 'int32']).columns\n",
    "df[numeric_cols].skew()           # ! checking skewness after transformation"
   ]
  },
  {
   "cell_type": "markdown",
   "metadata": {},
   "source": [
    "# Feature Engineering   - Encoding"
   ]
  },
  {
   "cell_type": "code",
   "execution_count": 76,
   "metadata": {},
   "outputs": [
    {
     "name": "stdout",
     "output_type": "stream",
     "text": [
      "<class 'pandas.core.frame.DataFrame'>\n",
      "RangeIndex: 11199 entries, 0 to 11198\n",
      "Data columns (total 16 columns):\n",
      " #   Column                   Non-Null Count  Dtype  \n",
      "---  ------                   --------------  -----  \n",
      " 0   make                     11199 non-null  int64  \n",
      " 1   model                    11199 non-null  int64  \n",
      " 2   engine_fuel_type         11199 non-null  int64  \n",
      " 3   transmission_type        11199 non-null  int64  \n",
      " 4   driven_wheels            11199 non-null  int64  \n",
      " 5   market_category          11199 non-null  int64  \n",
      " 6   vehicle_size             11199 non-null  int64  \n",
      " 7   vehicle_style            11199 non-null  int64  \n",
      " 8   msrp                     11199 non-null  int64  \n",
      " 9   powered year             11199 non-null  int16  \n",
      " 10  logged engine_hp         11199 non-null  float32\n",
      " 11  logged engine_cylinders  11199 non-null  float32\n",
      " 12  powered number_of_doors  11199 non-null  float32\n",
      " 13  logged highway_mpg       11199 non-null  float32\n",
      " 14  logged city_mpg          11199 non-null  float32\n",
      " 15  logged popularity        11199 non-null  float32\n",
      "dtypes: float32(6), int16(1), int64(9)\n",
      "memory usage: 1.0 MB\n"
     ]
    }
   ],
   "source": [
    "from sklearn.preprocessing import LabelEncoder\n",
    "for col in df.columns:\n",
    "    if col not in numeric_cols:\n",
    "        df[col] = LabelEncoder().fit_transform(df[col])\n",
    "df.info()"
   ]
  },
  {
   "cell_type": "code",
   "execution_count": null,
   "metadata": {},
   "outputs": [],
   "source": []
  }
 ],
 "metadata": {
  "kernelspec": {
   "display_name": "AI+ML_course_amaliyot-8lQVJ-6X",
   "language": "python",
   "name": "python3"
  },
  "language_info": {
   "codemirror_mode": {
    "name": "ipython",
    "version": 3
   },
   "file_extension": ".py",
   "mimetype": "text/x-python",
   "name": "python",
   "nbconvert_exporter": "python",
   "pygments_lexer": "ipython3",
   "version": "3.12.4"
  }
 },
 "nbformat": 4,
 "nbformat_minor": 2
}
