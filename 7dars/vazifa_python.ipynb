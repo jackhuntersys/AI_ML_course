{
 "cells": [
  {
   "cell_type": "raw",
   "metadata": {},
   "source": [
    "# Darsda ishlatilingan barcha kodlarni qayta ishlatish\n",
    "# 8 dan 25 gacha bo'lgan sonlar orasidagi sonlarni ekranga chiqarish\n",
    "# 3 dan 100 gacha sonlarni(100 xam kirsin) orasida 3 ga va 5 ga bo'linadiganlarni yigindisi va kopaytmasini toping"
   ]
  },
  {
   "cell_type": "markdown",
   "metadata": {},
   "source": []
  }
 ],
 "metadata": {
  "language_info": {
   "name": "python"
  }
 },
 "nbformat": 4,
 "nbformat_minor": 2
}
