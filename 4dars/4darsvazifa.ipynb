{
 "cells": [
  {
   "cell_type": "code",
   "execution_count": 1,
   "metadata": {},
   "outputs": [],
   "source": [
    "import pandas as pd\n",
    "import missingno as msno\n",
    "import numpy  as np\n",
    "import matplotlib.pyplot as plt\n",
    "import seaborn as sns"
   ]
  },
  {
   "cell_type": "markdown",
   "metadata": {},
   "source": [
    " # 1.   taking info about dataset"
   ]
  },
  {
   "cell_type": "code",
   "execution_count": 2,
   "metadata": {},
   "outputs": [
    {
     "name": "stdout",
     "output_type": "stream",
     "text": [
      "<class 'pandas.core.frame.DataFrame'>\n",
      "RangeIndex: 10000 entries, 0 to 9999\n",
      "Data columns (total 6 columns):\n",
      " #   Column                        Non-Null Count  Dtype  \n",
      "---  ------                        --------------  -----  \n",
      " 0   Customer_Segment              8034 non-null   object \n",
      " 1   Sales_Before                  8478 non-null   float64\n",
      " 2   Sales_After                   9233 non-null   float64\n",
      " 3   Customer_Satisfaction_Before  8330 non-null   float64\n",
      " 4   Customer_Satisfaction_After   8360 non-null   float64\n",
      " 5   Purchase_Made                 9195 non-null   object \n",
      "dtypes: float64(4), object(2)\n",
      "memory usage: 468.9+ KB\n"
     ]
    }
   ],
   "source": [
    "df = pd.read_csv('Sales.csv')\n",
    "df.info()                                      \n"
   ]
  },
  {
   "cell_type": "markdown",
   "metadata": {},
   "source": [
    " ## 2.  shows first 10 rows"
   ]
  },
  {
   "cell_type": "code",
   "execution_count": 3,
   "metadata": {},
   "outputs": [
    {
     "data": {
      "text/html": [
       "<div>\n",
       "<style scoped>\n",
       "    .dataframe tbody tr th:only-of-type {\n",
       "        vertical-align: middle;\n",
       "    }\n",
       "\n",
       "    .dataframe tbody tr th {\n",
       "        vertical-align: top;\n",
       "    }\n",
       "\n",
       "    .dataframe thead th {\n",
       "        text-align: right;\n",
       "    }\n",
       "</style>\n",
       "<table border=\"1\" class=\"dataframe\">\n",
       "  <thead>\n",
       "    <tr style=\"text-align: right;\">\n",
       "      <th></th>\n",
       "      <th>Customer_Segment</th>\n",
       "      <th>Sales_Before</th>\n",
       "      <th>Sales_After</th>\n",
       "      <th>Customer_Satisfaction_Before</th>\n",
       "      <th>Customer_Satisfaction_After</th>\n",
       "      <th>Purchase_Made</th>\n",
       "    </tr>\n",
       "  </thead>\n",
       "  <tbody>\n",
       "    <tr>\n",
       "      <th>0</th>\n",
       "      <td>High Value</td>\n",
       "      <td>240.548359</td>\n",
       "      <td>300.007567</td>\n",
       "      <td>74.684767</td>\n",
       "      <td>NaN</td>\n",
       "      <td>No</td>\n",
       "    </tr>\n",
       "    <tr>\n",
       "      <th>1</th>\n",
       "      <td>High Value</td>\n",
       "      <td>246.862114</td>\n",
       "      <td>381.337555</td>\n",
       "      <td>100.000000</td>\n",
       "      <td>100.000000</td>\n",
       "      <td>Yes</td>\n",
       "    </tr>\n",
       "    <tr>\n",
       "      <th>2</th>\n",
       "      <td>High Value</td>\n",
       "      <td>156.978084</td>\n",
       "      <td>179.330464</td>\n",
       "      <td>98.780735</td>\n",
       "      <td>100.000000</td>\n",
       "      <td>No</td>\n",
       "    </tr>\n",
       "    <tr>\n",
       "      <th>3</th>\n",
       "      <td>Medium Value</td>\n",
       "      <td>192.126708</td>\n",
       "      <td>229.278031</td>\n",
       "      <td>49.333766</td>\n",
       "      <td>39.811841</td>\n",
       "      <td>Yes</td>\n",
       "    </tr>\n",
       "    <tr>\n",
       "      <th>4</th>\n",
       "      <td>High Value</td>\n",
       "      <td>229.685622</td>\n",
       "      <td>NaN</td>\n",
       "      <td>83.974852</td>\n",
       "      <td>87.738591</td>\n",
       "      <td>Yes</td>\n",
       "    </tr>\n",
       "    <tr>\n",
       "      <th>5</th>\n",
       "      <td>NaN</td>\n",
       "      <td>135.573003</td>\n",
       "      <td>218.559988</td>\n",
       "      <td>58.075342</td>\n",
       "      <td>69.404918</td>\n",
       "      <td>No</td>\n",
       "    </tr>\n",
       "    <tr>\n",
       "      <th>6</th>\n",
       "      <td>High Value</td>\n",
       "      <td>191.713918</td>\n",
       "      <td>222.409356</td>\n",
       "      <td>89.967827</td>\n",
       "      <td>85.120975</td>\n",
       "      <td>Yes</td>\n",
       "    </tr>\n",
       "    <tr>\n",
       "      <th>7</th>\n",
       "      <td>Low Value</td>\n",
       "      <td>173.752555</td>\n",
       "      <td>213.168232</td>\n",
       "      <td>66.984711</td>\n",
       "      <td>67.881558</td>\n",
       "      <td>NaN</td>\n",
       "    </tr>\n",
       "    <tr>\n",
       "      <th>8</th>\n",
       "      <td>High Value</td>\n",
       "      <td>208.308577</td>\n",
       "      <td>248.178830</td>\n",
       "      <td>95.366670</td>\n",
       "      <td>84.790294</td>\n",
       "      <td>Yes</td>\n",
       "    </tr>\n",
       "    <tr>\n",
       "      <th>9</th>\n",
       "      <td>High Value</td>\n",
       "      <td>235.071493</td>\n",
       "      <td>352.756872</td>\n",
       "      <td>72.919851</td>\n",
       "      <td>70.753225</td>\n",
       "      <td>No</td>\n",
       "    </tr>\n",
       "  </tbody>\n",
       "</table>\n",
       "</div>"
      ],
      "text/plain": [
       "  Customer_Segment  Sales_Before  Sales_After  Customer_Satisfaction_Before  \\\n",
       "0       High Value    240.548359   300.007567                     74.684767   \n",
       "1       High Value    246.862114   381.337555                    100.000000   \n",
       "2       High Value    156.978084   179.330464                     98.780735   \n",
       "3     Medium Value    192.126708   229.278031                     49.333766   \n",
       "4       High Value    229.685622          NaN                     83.974852   \n",
       "5              NaN    135.573003   218.559988                     58.075342   \n",
       "6       High Value    191.713918   222.409356                     89.967827   \n",
       "7        Low Value    173.752555   213.168232                     66.984711   \n",
       "8       High Value    208.308577   248.178830                     95.366670   \n",
       "9       High Value    235.071493   352.756872                     72.919851   \n",
       "\n",
       "   Customer_Satisfaction_After Purchase_Made  \n",
       "0                          NaN            No  \n",
       "1                   100.000000           Yes  \n",
       "2                   100.000000            No  \n",
       "3                    39.811841           Yes  \n",
       "4                    87.738591           Yes  \n",
       "5                    69.404918            No  \n",
       "6                    85.120975           Yes  \n",
       "7                    67.881558           NaN  \n",
       "8                    84.790294           Yes  \n",
       "9                    70.753225            No  "
      ]
     },
     "execution_count": 3,
     "metadata": {},
     "output_type": "execute_result"
    }
   ],
   "source": [
    "df.head(10)                                    "
   ]
  },
  {
   "cell_type": "markdown",
   "metadata": {},
   "source": [
    "   # 3. detecting missing values"
   ]
  },
  {
   "cell_type": "code",
   "execution_count": 4,
   "metadata": {},
   "outputs": [
    {
     "data": {
      "text/plain": [
       "Customer_Segment                1966\n",
       "Sales_Before                    1522\n",
       "Sales_After                      767\n",
       "Customer_Satisfaction_Before    1670\n",
       "Customer_Satisfaction_After     1640\n",
       "Purchase_Made                    805\n",
       "dtype: int64"
      ]
     },
     "execution_count": 4,
     "metadata": {},
     "output_type": "execute_result"
    }
   ],
   "source": [
    "df.isnull().sum()                            "
   ]
  },
  {
   "cell_type": "markdown",
   "metadata": {},
   "source": [
    "# Dropping missing value"
   ]
  },
  {
   "cell_type": "code",
   "execution_count": 5,
   "metadata": {},
   "outputs": [],
   "source": [
    "dropped_data = df.dropna()    # ! dropping not good choice here\n"
   ]
  },
  {
   "cell_type": "code",
   "execution_count": 6,
   "metadata": {},
   "outputs": [
    {
     "data": {
      "text/plain": [
       "Customer_Segment                0\n",
       "Sales_Before                    0\n",
       "Sales_After                     0\n",
       "Customer_Satisfaction_Before    0\n",
       "Customer_Satisfaction_After     0\n",
       "Purchase_Made                   0\n",
       "dtype: int64"
      ]
     },
     "execution_count": 6,
     "metadata": {},
     "output_type": "execute_result"
    }
   ],
   "source": [
    "dropped_data.isnull().sum() "
   ]
  },
  {
   "cell_type": "code",
   "execution_count": 7,
   "metadata": {},
   "outputs": [
    {
     "name": "stdout",
     "output_type": "stream",
     "text": [
      "<class 'pandas.core.frame.DataFrame'>\n",
      "RangeIndex: 10000 entries, 0 to 9999\n",
      "Data columns (total 6 columns):\n",
      " #   Column                        Non-Null Count  Dtype  \n",
      "---  ------                        --------------  -----  \n",
      " 0   Customer_Segment              8034 non-null   object \n",
      " 1   Sales_Before                  8478 non-null   float64\n",
      " 2   Sales_After                   9233 non-null   float64\n",
      " 3   Customer_Satisfaction_Before  8330 non-null   float64\n",
      " 4   Customer_Satisfaction_After   8360 non-null   float64\n",
      " 5   Purchase_Made                 9195 non-null   object \n",
      "dtypes: float64(4), object(2)\n",
      "memory usage: 468.9+ KB\n"
     ]
    }
   ],
   "source": [
    "df.info()"
   ]
  },
  {
   "cell_type": "markdown",
   "metadata": {},
   "source": [
    "# Fill by iteration mean mode median\n"
   ]
  },
  {
   "cell_type": "code",
   "execution_count": 8,
   "metadata": {},
   "outputs": [
    {
     "name": "stderr",
     "output_type": "stream",
     "text": [
      "C:\\Users\\user\\AppData\\Local\\Temp\\ipykernel_14168\\491982431.py:5: FutureWarning: A value is trying to be set on a copy of a DataFrame or Series through chained assignment using an inplace method.\n",
      "The behavior will change in pandas 3.0. This inplace method will never work because the intermediate object on which we are setting values always behaves as a copy.\n",
      "\n",
      "For example, when doing 'df[col].method(value, inplace=True)', try using 'df.method({col: value}, inplace=True)' or df[col] = df[col].method(value) instead, to perform the operation inplace on the original object.\n",
      "\n",
      "\n",
      "  filled_by_iteration[i].fillna(filled_by_iteration[i].mode()[0], inplace=True)   # ! fills object types\n",
      "C:\\Users\\user\\AppData\\Local\\Temp\\ipykernel_14168\\491982431.py:7: FutureWarning: A value is trying to be set on a copy of a DataFrame or Series through chained assignment using an inplace method.\n",
      "The behavior will change in pandas 3.0. This inplace method will never work because the intermediate object on which we are setting values always behaves as a copy.\n",
      "\n",
      "For example, when doing 'df[col].method(value, inplace=True)', try using 'df.method({col: value}, inplace=True)' or df[col] = df[col].method(value) instead, to perform the operation inplace on the original object.\n",
      "\n",
      "\n",
      "  filled_by_iteration[i].fillna(filled_by_iteration[i].mean(), inplace=True)        # ! fills number types with mean\n"
     ]
    },
    {
     "data": {
      "text/plain": [
       "Customer_Segment                0\n",
       "Sales_Before                    0\n",
       "Sales_After                     0\n",
       "Customer_Satisfaction_Before    0\n",
       "Customer_Satisfaction_After     0\n",
       "Purchase_Made                   0\n",
       "dtype: int64"
      ]
     },
     "execution_count": 8,
     "metadata": {},
     "output_type": "execute_result"
    }
   ],
   "source": [
    "missing_value_list = df.columns[df.isnull().any()]\n",
    "filled_by_iteration = df.copy()\n",
    "for i  in missing_value_list:\n",
    "  if filled_by_iteration[i].dtypes == 'object':\n",
    "    filled_by_iteration[i].fillna(filled_by_iteration[i].mode()[0], inplace=True)   # ! fills object types\n",
    "  else:\n",
    "    filled_by_iteration[i].fillna(filled_by_iteration[i].mean(), inplace=True)        # ! fills number types with mean\n",
    "    #filled_by_iteration[i].fillna(filled_by_iteration[i].median(), inplace=True)        # ! fills number types with median\n",
    "\n",
    "filled_by_iteration.isnull().sum()\n",
    "# filled_by_mean['Purchase_Made'].dtypes"
   ]
  },
  {
   "cell_type": "markdown",
   "metadata": {},
   "source": [
    "# Encoding filled_by_iteration dataset"
   ]
  },
  {
   "cell_type": "markdown",
   "metadata": {},
   "source": [
    "# One hot encoding"
   ]
  },
  {
   "cell_type": "code",
   "execution_count": 9,
   "metadata": {},
   "outputs": [
    {
     "name": "stdout",
     "output_type": "stream",
     "text": [
      "<class 'pandas.core.frame.DataFrame'>\n",
      "RangeIndex: 10000 entries, 0 to 9999\n",
      "Data columns (total 6 columns):\n",
      " #   Column                        Non-Null Count  Dtype  \n",
      "---  ------                        --------------  -----  \n",
      " 0   Customer_Segment              10000 non-null  object \n",
      " 1   Sales_Before                  10000 non-null  float64\n",
      " 2   Sales_After                   10000 non-null  float64\n",
      " 3   Customer_Satisfaction_Before  10000 non-null  float64\n",
      " 4   Customer_Satisfaction_After   10000 non-null  float64\n",
      " 5   Purchase_Made                 10000 non-null  object \n",
      "dtypes: float64(4), object(2)\n",
      "memory usage: 468.9+ KB\n"
     ]
    }
   ],
   "source": [
    "filled_by_iteration.info()"
   ]
  },
  {
   "cell_type": "code",
   "execution_count": 10,
   "metadata": {},
   "outputs": [
    {
     "data": {
      "text/plain": [
       "Customer_Segment\n",
       "Low Value       4665\n",
       "Medium Value    2697\n",
       "High Value      2638\n",
       "Name: count, dtype: int64"
      ]
     },
     "execution_count": 10,
     "metadata": {},
     "output_type": "execute_result"
    }
   ],
   "source": [
    "filled_by_iteration['Customer_Segment'].value_counts()    # ! getting value frequency of column"
   ]
  },
  {
   "cell_type": "code",
   "execution_count": 11,
   "metadata": {},
   "outputs": [
    {
     "data": {
      "text/plain": [
       "Purchase_Made\n",
       "Yes    5472\n",
       "No     4528\n",
       "Name: count, dtype: int64"
      ]
     },
     "execution_count": 11,
     "metadata": {},
     "output_type": "execute_result"
    }
   ],
   "source": [
    "filled_by_iteration['Purchase_Made'].value_counts()        # ! getting value frequency of column"
   ]
  },
  {
   "cell_type": "code",
   "execution_count": 12,
   "metadata": {},
   "outputs": [],
   "source": [
    "one_hot_encoded = pd.get_dummies(filled_by_iteration,columns=None, dtype=int)  # ! hamma object type categorical value ga binary(0,1) qiymat beradi."
   ]
  },
  {
   "cell_type": "code",
   "execution_count": 13,
   "metadata": {},
   "outputs": [
    {
     "name": "stdout",
     "output_type": "stream",
     "text": [
      "<class 'pandas.core.frame.DataFrame'>\n",
      "RangeIndex: 10000 entries, 0 to 9999\n",
      "Data columns (total 9 columns):\n",
      " #   Column                         Non-Null Count  Dtype  \n",
      "---  ------                         --------------  -----  \n",
      " 0   Sales_Before                   10000 non-null  float64\n",
      " 1   Sales_After                    10000 non-null  float64\n",
      " 2   Customer_Satisfaction_Before   10000 non-null  float64\n",
      " 3   Customer_Satisfaction_After    10000 non-null  float64\n",
      " 4   Customer_Segment_High Value    10000 non-null  int64  \n",
      " 5   Customer_Segment_Low Value     10000 non-null  int64  \n",
      " 6   Customer_Segment_Medium Value  10000 non-null  int64  \n",
      " 7   Purchase_Made_No               10000 non-null  int64  \n",
      " 8   Purchase_Made_Yes              10000 non-null  int64  \n",
      "dtypes: float64(4), int64(5)\n",
      "memory usage: 703.3 KB\n"
     ]
    }
   ],
   "source": [
    "one_hot_encoded.info()"
   ]
  },
  {
   "cell_type": "markdown",
   "metadata": {},
   "source": [
    "# Label encoding"
   ]
  },
  {
   "cell_type": "code",
   "execution_count": 14,
   "metadata": {},
   "outputs": [],
   "source": [
    "from sklearn.preprocessing import LabelEncoder"
   ]
  },
  {
   "cell_type": "code",
   "execution_count": 15,
   "metadata": {},
   "outputs": [
    {
     "name": "stdout",
     "output_type": "stream",
     "text": [
      "<class 'pandas.core.frame.DataFrame'>\n",
      "RangeIndex: 10000 entries, 0 to 9999\n",
      "Data columns (total 6 columns):\n",
      " #   Column                        Non-Null Count  Dtype  \n",
      "---  ------                        --------------  -----  \n",
      " 0   Customer_Segment              10000 non-null  int64  \n",
      " 1   Sales_Before                  10000 non-null  float64\n",
      " 2   Sales_After                   10000 non-null  float64\n",
      " 3   Customer_Satisfaction_Before  10000 non-null  float64\n",
      " 4   Customer_Satisfaction_After   10000 non-null  float64\n",
      " 5   Purchase_Made                 10000 non-null  int64  \n",
      "dtypes: float64(4), int64(2)\n",
      "memory usage: 468.9 KB\n"
     ]
    }
   ],
   "source": [
    "label_encoded = filled_by_iteration.copy()\n",
    "columns_list = df.columns.to_list()                 # ! main dataset ni columnlarini list ga ovoldik\n",
    "for i in  columns_list:\n",
    "  if label_encoded[i].dtypes == 'object':\n",
    "    label_encoded[i]= LabelEncoder().fit_transform(label_encoded[i])    # ! categorical value ga unique qiymat beradi 0,1,2,3\n",
    "\n",
    "label_encoded.info()"
   ]
  },
  {
   "cell_type": "code",
   "execution_count": 16,
   "metadata": {},
   "outputs": [
    {
     "data": {
      "text/html": [
       "<div>\n",
       "<style scoped>\n",
       "    .dataframe tbody tr th:only-of-type {\n",
       "        vertical-align: middle;\n",
       "    }\n",
       "\n",
       "    .dataframe tbody tr th {\n",
       "        vertical-align: top;\n",
       "    }\n",
       "\n",
       "    .dataframe thead th {\n",
       "        text-align: right;\n",
       "    }\n",
       "</style>\n",
       "<table border=\"1\" class=\"dataframe\">\n",
       "  <thead>\n",
       "    <tr style=\"text-align: right;\">\n",
       "      <th></th>\n",
       "      <th>Customer_Segment</th>\n",
       "      <th>Sales_Before</th>\n",
       "      <th>Sales_After</th>\n",
       "      <th>Customer_Satisfaction_Before</th>\n",
       "      <th>Customer_Satisfaction_After</th>\n",
       "      <th>Purchase_Made</th>\n",
       "    </tr>\n",
       "  </thead>\n",
       "  <tbody>\n",
       "    <tr>\n",
       "      <th>0</th>\n",
       "      <td>0</td>\n",
       "      <td>240.548359</td>\n",
       "      <td>300.007567</td>\n",
       "      <td>74.684767</td>\n",
       "      <td>73.872593</td>\n",
       "      <td>0</td>\n",
       "    </tr>\n",
       "    <tr>\n",
       "      <th>1</th>\n",
       "      <td>0</td>\n",
       "      <td>246.862114</td>\n",
       "      <td>381.337555</td>\n",
       "      <td>100.000000</td>\n",
       "      <td>100.000000</td>\n",
       "      <td>1</td>\n",
       "    </tr>\n",
       "    <tr>\n",
       "      <th>2</th>\n",
       "      <td>0</td>\n",
       "      <td>156.978084</td>\n",
       "      <td>179.330464</td>\n",
       "      <td>98.780735</td>\n",
       "      <td>100.000000</td>\n",
       "      <td>0</td>\n",
       "    </tr>\n",
       "    <tr>\n",
       "      <th>3</th>\n",
       "      <td>2</td>\n",
       "      <td>192.126708</td>\n",
       "      <td>229.278031</td>\n",
       "      <td>49.333766</td>\n",
       "      <td>39.811841</td>\n",
       "      <td>1</td>\n",
       "    </tr>\n",
       "    <tr>\n",
       "      <th>4</th>\n",
       "      <td>0</td>\n",
       "      <td>229.685622</td>\n",
       "      <td>280.457952</td>\n",
       "      <td>83.974852</td>\n",
       "      <td>87.738591</td>\n",
       "      <td>1</td>\n",
       "    </tr>\n",
       "    <tr>\n",
       "      <th>5</th>\n",
       "      <td>1</td>\n",
       "      <td>135.573003</td>\n",
       "      <td>218.559988</td>\n",
       "      <td>58.075342</td>\n",
       "      <td>69.404918</td>\n",
       "      <td>0</td>\n",
       "    </tr>\n",
       "    <tr>\n",
       "      <th>6</th>\n",
       "      <td>0</td>\n",
       "      <td>191.713918</td>\n",
       "      <td>222.409356</td>\n",
       "      <td>89.967827</td>\n",
       "      <td>85.120975</td>\n",
       "      <td>1</td>\n",
       "    </tr>\n",
       "    <tr>\n",
       "      <th>7</th>\n",
       "      <td>1</td>\n",
       "      <td>173.752555</td>\n",
       "      <td>213.168232</td>\n",
       "      <td>66.984711</td>\n",
       "      <td>67.881558</td>\n",
       "      <td>1</td>\n",
       "    </tr>\n",
       "    <tr>\n",
       "      <th>8</th>\n",
       "      <td>0</td>\n",
       "      <td>208.308577</td>\n",
       "      <td>248.178830</td>\n",
       "      <td>95.366670</td>\n",
       "      <td>84.790294</td>\n",
       "      <td>1</td>\n",
       "    </tr>\n",
       "    <tr>\n",
       "      <th>9</th>\n",
       "      <td>0</td>\n",
       "      <td>235.071493</td>\n",
       "      <td>352.756872</td>\n",
       "      <td>72.919851</td>\n",
       "      <td>70.753225</td>\n",
       "      <td>0</td>\n",
       "    </tr>\n",
       "    <tr>\n",
       "      <th>10</th>\n",
       "      <td>1</td>\n",
       "      <td>139.931539</td>\n",
       "      <td>170.238396</td>\n",
       "      <td>59.844766</td>\n",
       "      <td>73.872593</td>\n",
       "      <td>1</td>\n",
       "    </tr>\n",
       "    <tr>\n",
       "      <th>11</th>\n",
       "      <td>0</td>\n",
       "      <td>203.716998</td>\n",
       "      <td>333.064972</td>\n",
       "      <td>74.383939</td>\n",
       "      <td>67.942403</td>\n",
       "      <td>1</td>\n",
       "    </tr>\n",
       "    <tr>\n",
       "      <th>12</th>\n",
       "      <td>1</td>\n",
       "      <td>211.834937</td>\n",
       "      <td>254.843912</td>\n",
       "      <td>70.252076</td>\n",
       "      <td>87.601544</td>\n",
       "      <td>1</td>\n",
       "    </tr>\n",
       "    <tr>\n",
       "      <th>13</th>\n",
       "      <td>0</td>\n",
       "      <td>217.776013</td>\n",
       "      <td>259.989624</td>\n",
       "      <td>100.000000</td>\n",
       "      <td>100.000000</td>\n",
       "      <td>1</td>\n",
       "    </tr>\n",
       "    <tr>\n",
       "      <th>14</th>\n",
       "      <td>2</td>\n",
       "      <td>173.183446</td>\n",
       "      <td>284.924299</td>\n",
       "      <td>81.949120</td>\n",
       "      <td>73.872593</td>\n",
       "      <td>0</td>\n",
       "    </tr>\n",
       "    <tr>\n",
       "      <th>15</th>\n",
       "      <td>1</td>\n",
       "      <td>188.338963</td>\n",
       "      <td>232.582486</td>\n",
       "      <td>53.458822</td>\n",
       "      <td>63.467225</td>\n",
       "      <td>1</td>\n",
       "    </tr>\n",
       "    <tr>\n",
       "      <th>16</th>\n",
       "      <td>1</td>\n",
       "      <td>306.701452</td>\n",
       "      <td>485.135424</td>\n",
       "      <td>77.431662</td>\n",
       "      <td>78.361282</td>\n",
       "      <td>1</td>\n",
       "    </tr>\n",
       "    <tr>\n",
       "      <th>17</th>\n",
       "      <td>1</td>\n",
       "      <td>164.636319</td>\n",
       "      <td>242.321934</td>\n",
       "      <td>50.557337</td>\n",
       "      <td>63.477245</td>\n",
       "      <td>0</td>\n",
       "    </tr>\n",
       "    <tr>\n",
       "      <th>18</th>\n",
       "      <td>1</td>\n",
       "      <td>151.733869</td>\n",
       "      <td>231.615428</td>\n",
       "      <td>51.648793</td>\n",
       "      <td>73.872593</td>\n",
       "      <td>1</td>\n",
       "    </tr>\n",
       "    <tr>\n",
       "      <th>19</th>\n",
       "      <td>1</td>\n",
       "      <td>136.636315</td>\n",
       "      <td>162.719351</td>\n",
       "      <td>50.296079</td>\n",
       "      <td>46.964736</td>\n",
       "      <td>1</td>\n",
       "    </tr>\n",
       "  </tbody>\n",
       "</table>\n",
       "</div>"
      ],
      "text/plain": [
       "    Customer_Segment  Sales_Before  Sales_After  Customer_Satisfaction_Before  \\\n",
       "0                  0    240.548359   300.007567                     74.684767   \n",
       "1                  0    246.862114   381.337555                    100.000000   \n",
       "2                  0    156.978084   179.330464                     98.780735   \n",
       "3                  2    192.126708   229.278031                     49.333766   \n",
       "4                  0    229.685622   280.457952                     83.974852   \n",
       "5                  1    135.573003   218.559988                     58.075342   \n",
       "6                  0    191.713918   222.409356                     89.967827   \n",
       "7                  1    173.752555   213.168232                     66.984711   \n",
       "8                  0    208.308577   248.178830                     95.366670   \n",
       "9                  0    235.071493   352.756872                     72.919851   \n",
       "10                 1    139.931539   170.238396                     59.844766   \n",
       "11                 0    203.716998   333.064972                     74.383939   \n",
       "12                 1    211.834937   254.843912                     70.252076   \n",
       "13                 0    217.776013   259.989624                    100.000000   \n",
       "14                 2    173.183446   284.924299                     81.949120   \n",
       "15                 1    188.338963   232.582486                     53.458822   \n",
       "16                 1    306.701452   485.135424                     77.431662   \n",
       "17                 1    164.636319   242.321934                     50.557337   \n",
       "18                 1    151.733869   231.615428                     51.648793   \n",
       "19                 1    136.636315   162.719351                     50.296079   \n",
       "\n",
       "    Customer_Satisfaction_After  Purchase_Made  \n",
       "0                     73.872593              0  \n",
       "1                    100.000000              1  \n",
       "2                    100.000000              0  \n",
       "3                     39.811841              1  \n",
       "4                     87.738591              1  \n",
       "5                     69.404918              0  \n",
       "6                     85.120975              1  \n",
       "7                     67.881558              1  \n",
       "8                     84.790294              1  \n",
       "9                     70.753225              0  \n",
       "10                    73.872593              1  \n",
       "11                    67.942403              1  \n",
       "12                    87.601544              1  \n",
       "13                   100.000000              1  \n",
       "14                    73.872593              0  \n",
       "15                    63.467225              1  \n",
       "16                    78.361282              1  \n",
       "17                    63.477245              0  \n",
       "18                    73.872593              1  \n",
       "19                    46.964736              1  "
      ]
     },
     "execution_count": 16,
     "metadata": {},
     "output_type": "execute_result"
    }
   ],
   "source": [
    "label_encoded.head(20)"
   ]
  },
  {
   "cell_type": "markdown",
   "metadata": {},
   "source": [
    "#  Target encoding"
   ]
  },
  {
   "cell_type": "code",
   "execution_count": 25,
   "metadata": {},
   "outputs": [
    {
     "name": "stdout",
     "output_type": "stream",
     "text": [
      "<class 'pandas.core.frame.DataFrame'>\n",
      "RangeIndex: 10000 entries, 0 to 9999\n",
      "Data columns (total 7 columns):\n",
      " #   Column                        Non-Null Count  Dtype  \n",
      "---  ------                        --------------  -----  \n",
      " 0   Customer_Segment              10000 non-null  object \n",
      " 1   Sales_Before                  10000 non-null  float64\n",
      " 2   Sales_After                   10000 non-null  float64\n",
      " 3   Customer_Satisfaction_Before  10000 non-null  float64\n",
      " 4   Customer_Satisfaction_After   10000 non-null  float64\n",
      " 5   Purchase_Made_No              10000 non-null  int64  \n",
      " 6   Purchase_Made_Yes             10000 non-null  int64  \n",
      "dtypes: float64(4), int64(2), object(1)\n",
      "memory usage: 547.0+ KB\n"
     ]
    }
   ],
   "source": [
    "target_encoded = filled_by_iteration.copy()\n",
    "target_encoded = pd.get_dummies(target_encoded,columns=['Purchase_Made'], dtype=int)  # ! target variable ham categorical bulganligi uchun aval uni one hot bilan encode qildik\n",
    "\n",
    "# target_encoded['Customer_Segment_target'] = target_encoded.groupby('Customer_Segment')['Purchase_Made'].transform('mean')\n",
    "\n",
    "target_encoded.info()"
   ]
  },
  {
   "cell_type": "code",
   "execution_count": 26,
   "metadata": {},
   "outputs": [
    {
     "data": {
      "text/plain": [
       "'yes'"
      ]
     },
     "execution_count": 26,
     "metadata": {},
     "output_type": "execute_result"
    }
   ],
   "source": [
    "'yes' if 5>4  else 'no'"
   ]
  },
  {
   "cell_type": "code",
   "execution_count": 28,
   "metadata": {},
   "outputs": [
    {
     "name": "stdout",
     "output_type": "stream",
     "text": [
      "2\n",
      "4\n",
      "6\n",
      "8\n",
      "10\n"
     ]
    }
   ],
   "source": [
    "for i in  range(1,11):\n",
    "  if i%2 ==0:\n",
    "    print(i)\n",
    "\n",
    "  "
   ]
  },
  {
   "cell_type": "code",
   "execution_count": null,
   "metadata": {},
   "outputs": [],
   "source": []
  }
 ],
 "metadata": {
  "kernelspec": {
   "display_name": "AI+ML_course_amaliyot-8lQVJ-6X",
   "language": "python",
   "name": "python3"
  },
  "language_info": {
   "codemirror_mode": {
    "name": "ipython",
    "version": 3
   },
   "file_extension": ".py",
   "mimetype": "text/x-python",
   "name": "python",
   "nbconvert_exporter": "python",
   "pygments_lexer": "ipython3",
   "version": "3.12.4"
  }
 },
 "nbformat": 4,
 "nbformat_minor": 2
}
