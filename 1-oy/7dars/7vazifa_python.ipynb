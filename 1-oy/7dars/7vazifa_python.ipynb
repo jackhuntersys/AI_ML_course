{
 "cells": [
  {
   "cell_type": "raw",
   "metadata": {},
   "source": [
    "# Darsda ishlatilingan barcha kodlarni qayta ishlatish\n",
    "# 8 dan 25 gacha bo'lgan sonlar orasidagi sonlarni ekranga chiqarish\n",
    "# 3 dan 100 gacha sonlarni(100 xam kirsin) orasida 3 ga va 5 ga bo'linadiganlarni yigindisi va kopaytmasini toping"
   ]
  },
  {
   "cell_type": "code",
   "execution_count": 1,
   "metadata": {},
   "outputs": [
    {
     "name": "stdout",
     "output_type": "stream",
     "text": [
      "8\n",
      "9\n",
      "10\n",
      "11\n",
      "12\n",
      "13\n",
      "14\n",
      "15\n",
      "16\n",
      "17\n",
      "18\n",
      "19\n",
      "20\n",
      "21\n",
      "22\n",
      "23\n",
      "24\n",
      "25\n"
     ]
    }
   ],
   "source": [
    "for num in range(8,26):\n",
    "  print(num)\n"
   ]
  },
  {
   "cell_type": "code",
   "execution_count": 2,
   "metadata": {},
   "outputs": [
    {
     "name": "stdout",
     "output_type": "stream",
     "text": [
      " Yig'indi 315 ga ko'paytma 8201250000 ga teng\n"
     ]
    }
   ],
   "source": [
    "summa = 0\n",
    "kupaytma = 1\n",
    "for num in range(3,101):\n",
    "  if num%3==0 and num%5==0:\n",
    "    summa+=num\n",
    "    kupaytma*=num\n",
    "\n",
    "print(f\" Yig'indi {summa} ga ko'paytma {kupaytma} ga teng\")"
   ]
  },
  {
   "cell_type": "code",
   "execution_count": null,
   "metadata": {},
   "outputs": [],
   "source": []
  }
 ],
 "metadata": {
  "kernelspec": {
   "display_name": "AI+ML_course_amaliyot-8lQVJ-6X",
   "language": "python",
   "name": "python3"
  },
  "language_info": {
   "codemirror_mode": {
    "name": "ipython",
    "version": 3
   },
   "file_extension": ".py",
   "mimetype": "text/x-python",
   "name": "python",
   "nbconvert_exporter": "python",
   "pygments_lexer": "ipython3",
   "version": "3.12.4"
  }
 },
 "nbformat": 4,
 "nbformat_minor": 2
}
