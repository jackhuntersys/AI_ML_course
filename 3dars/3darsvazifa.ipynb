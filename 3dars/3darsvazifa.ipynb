{
 "cells": [
  {
   "cell_type": "markdown",
   "metadata": {},
   "source": [
    "# bu githubga"
   ]
  },
  {
   "cell_type": "markdown",
   "metadata": {},
   "source": [
    "sdsdssdsds"
   ]
  },
  {
   "cell_type": "markdown",
   "metadata": {},
   "source": [
    "dsdsdsdsd"
   ]
  },
  {
   "cell_type": "markdown",
   "metadata": {},
   "source": [
    "dfdfdfd"
   ]
  },
  {
   "cell_type": "markdown",
   "metadata": {},
   "source": []
  }
 ],
 "metadata": {
  "language_info": {
   "name": "python"
  }
 },
 "nbformat": 4,
 "nbformat_minor": 2
}
