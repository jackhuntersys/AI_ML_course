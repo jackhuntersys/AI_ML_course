{
 "cells": [
  {
   "cell_type": "code",
   "execution_count": 5,
   "id": "2227e580",
   "metadata": {},
   "outputs": [],
   "source": [
    "import pandas as pd\n",
    "df = pd.read_csv(r'D:\\2025 lessons\\AI+ML course amaliyot\\Datasets\\Food_Preference.csv')\n",
    "# from sklearn.preprocessing import "
   ]
  },
  {
   "cell_type": "code",
   "execution_count": 6,
   "id": "9b899598",
   "metadata": {},
   "outputs": [
    {
     "name": "stdout",
     "output_type": "stream",
     "text": [
      "<class 'pandas.core.frame.DataFrame'>\n",
      "RangeIndex: 288 entries, 0 to 287\n",
      "Data columns (total 8 columns):\n",
      " #   Column          Non-Null Count  Dtype \n",
      "---  ------          --------------  ----- \n",
      " 0   Timestamp       288 non-null    object\n",
      " 1   Participant_ID  288 non-null    object\n",
      " 2   Gender          284 non-null    object\n",
      " 3   Nationality     288 non-null    object\n",
      " 4   Age             288 non-null    int64 \n",
      " 5   Food            288 non-null    object\n",
      " 6   Juice           288 non-null    object\n",
      " 7   Dessert         288 non-null    object\n",
      "dtypes: int64(1), object(7)\n",
      "memory usage: 18.1+ KB\n"
     ]
    }
   ],
   "source": [
    "df.info()"
   ]
  },
  {
   "cell_type": "code",
   "execution_count": 7,
   "id": "094b2c0a",
   "metadata": {},
   "outputs": [],
   "source": [
    "# for col in df.columns:\n",
    "#     if df[col].dtype == 'int64':\n",
    "#         df[col][]"
   ]
  },
  {
   "cell_type": "code",
   "execution_count": 8,
   "id": "ab875085",
   "metadata": {},
   "outputs": [],
   "source": [
    "df.drop(columns=['Timestamp', 'Participant_ID'], inplace=True)"
   ]
  },
  {
   "cell_type": "code",
   "execution_count": 9,
   "id": "4363e83a",
   "metadata": {},
   "outputs": [
    {
     "data": {
      "text/html": [
       "<div>\n",
       "<style scoped>\n",
       "    .dataframe tbody tr th:only-of-type {\n",
       "        vertical-align: middle;\n",
       "    }\n",
       "\n",
       "    .dataframe tbody tr th {\n",
       "        vertical-align: top;\n",
       "    }\n",
       "\n",
       "    .dataframe thead th {\n",
       "        text-align: right;\n",
       "    }\n",
       "</style>\n",
       "<table border=\"1\" class=\"dataframe\">\n",
       "  <thead>\n",
       "    <tr style=\"text-align: right;\">\n",
       "      <th></th>\n",
       "      <th>Gender</th>\n",
       "      <th>Nationality</th>\n",
       "      <th>Age</th>\n",
       "      <th>Food</th>\n",
       "      <th>Juice</th>\n",
       "      <th>Dessert</th>\n",
       "    </tr>\n",
       "  </thead>\n",
       "  <tbody>\n",
       "    <tr>\n",
       "      <th>0</th>\n",
       "      <td>Male</td>\n",
       "      <td>Indian</td>\n",
       "      <td>24</td>\n",
       "      <td>Traditional food</td>\n",
       "      <td>Fresh Juice</td>\n",
       "      <td>Maybe</td>\n",
       "    </tr>\n",
       "    <tr>\n",
       "      <th>1</th>\n",
       "      <td>Female</td>\n",
       "      <td>Indian</td>\n",
       "      <td>22</td>\n",
       "      <td>Western Food</td>\n",
       "      <td>Carbonated drinks</td>\n",
       "      <td>Yes</td>\n",
       "    </tr>\n",
       "    <tr>\n",
       "      <th>2</th>\n",
       "      <td>Male</td>\n",
       "      <td>Indian</td>\n",
       "      <td>31</td>\n",
       "      <td>Western Food</td>\n",
       "      <td>Fresh Juice</td>\n",
       "      <td>Maybe</td>\n",
       "    </tr>\n",
       "    <tr>\n",
       "      <th>3</th>\n",
       "      <td>Female</td>\n",
       "      <td>Indian</td>\n",
       "      <td>25</td>\n",
       "      <td>Traditional food</td>\n",
       "      <td>Fresh Juice</td>\n",
       "      <td>Maybe</td>\n",
       "    </tr>\n",
       "    <tr>\n",
       "      <th>4</th>\n",
       "      <td>Male</td>\n",
       "      <td>Indian</td>\n",
       "      <td>27</td>\n",
       "      <td>Traditional food</td>\n",
       "      <td>Fresh Juice</td>\n",
       "      <td>Maybe</td>\n",
       "    </tr>\n",
       "  </tbody>\n",
       "</table>\n",
       "</div>"
      ],
      "text/plain": [
       "   Gender Nationality  Age              Food              Juice Dessert\n",
       "0    Male      Indian   24  Traditional food        Fresh Juice   Maybe\n",
       "1  Female      Indian   22      Western Food  Carbonated drinks     Yes\n",
       "2    Male      Indian   31      Western Food        Fresh Juice   Maybe\n",
       "3  Female      Indian   25  Traditional food        Fresh Juice   Maybe\n",
       "4    Male      Indian   27  Traditional food        Fresh Juice   Maybe"
      ]
     },
     "execution_count": 9,
     "metadata": {},
     "output_type": "execute_result"
    }
   ],
   "source": [
    "df.head()"
   ]
  },
  {
   "cell_type": "markdown",
   "id": "8d7c5e63",
   "metadata": {},
   "source": [
    "# Find mutual information with function"
   ]
  },
  {
   "cell_type": "markdown",
   "id": "77adab12",
   "metadata": {},
   "source": [
    "$$\n",
    "I(X;Y)=x∈X∑​y∈Y∑​p(x,y)⋅log2​(p(x,y)/p(x)p(y))\n",
    "$$"
   ]
  },
  {
   "cell_type": "markdown",
   "id": "b654b51e",
   "metadata": {},
   "source": [
    " 1. Joint Probability\n",
    "\n",
    "This is the probability of two things happening together\n",
    "$$\n",
    "p(x,y)=Count of (x, y)/Total number of observation\n",
    "$$\n",
    "\n",
    "\n",
    "2. Marginal Probability\n",
    "\n",
    "This is the probability of just one variable, regardless of the other.\n",
    "\n",
    "For XX:\n",
    "$$\n",
    "p(x)=∑yp(x,y)\n",
    "p(x)=y∑​p(x,y)\n",
    "$$\n",
    "For YY:\n",
    "$$\n",
    "p(y)=∑xp(x,y)\n",
    "p(y)=x∑​p\n",
    "$$"
   ]
  },
  {
   "cell_type": "code",
   "execution_count": null,
   "id": "5bbb4e83",
   "metadata": {},
   "outputs": [
    {
     "data": {
      "text/html": [
       "<div>\n",
       "<style scoped>\n",
       "    .dataframe tbody tr th:only-of-type {\n",
       "        vertical-align: middle;\n",
       "    }\n",
       "\n",
       "    .dataframe tbody tr th {\n",
       "        vertical-align: top;\n",
       "    }\n",
       "\n",
       "    .dataframe thead th {\n",
       "        text-align: right;\n",
       "    }\n",
       "</style>\n",
       "<table border=\"1\" class=\"dataframe\">\n",
       "  <thead>\n",
       "    <tr style=\"text-align: right;\">\n",
       "      <th>Dessert</th>\n",
       "      <th>Maybe</th>\n",
       "      <th>No</th>\n",
       "      <th>Yes</th>\n",
       "    </tr>\n",
       "    <tr>\n",
       "      <th>Gender</th>\n",
       "      <th></th>\n",
       "      <th></th>\n",
       "      <th></th>\n",
       "    </tr>\n",
       "  </thead>\n",
       "  <tbody>\n",
       "    <tr>\n",
       "      <th>Female</th>\n",
       "      <td>72</td>\n",
       "      <td>35</td>\n",
       "      <td>58</td>\n",
       "    </tr>\n",
       "    <tr>\n",
       "      <th>Male</th>\n",
       "      <td>50</td>\n",
       "      <td>17</td>\n",
       "      <td>52</td>\n",
       "    </tr>\n",
       "  </tbody>\n",
       "</table>\n",
       "</div>"
      ],
      "text/plain": [
       "Dessert  Maybe  No  Yes\n",
       "Gender                 \n",
       "Female      72  35   58\n",
       "Male        50  17   52"
      ]
     },
     "execution_count": 15,
     "metadata": {},
     "output_type": "execute_result"
    }
   ],
   "source": [
    "pd.crosstab(df['Gender'],df['Dessert'],)  # ! pd.crosstab joint probability ni kursatadi"
   ]
  },
  {
   "cell_type": "code",
   "execution_count": 16,
   "id": "b4817c54",
   "metadata": {},
   "outputs": [
    {
     "data": {
      "text/plain": [
       "Counter({'Female': 165, 'Male': 119, nan: 4})"
      ]
     },
     "execution_count": 16,
     "metadata": {},
     "output_type": "execute_result"
    }
   ],
   "source": [
    "from collections import Counter\n",
    "\n",
    "x = df['Gender'].to_list()\n",
    "y = df['Dessert'].to_list()\n",
    "x_counted = Counter(x)\n",
    "y_counted = Counter(y)\n",
    "x_counted\n",
    "\n"
   ]
  },
  {
   "cell_type": "code",
   "execution_count": 17,
   "id": "9ce61b50",
   "metadata": {},
   "outputs": [
    {
     "data": {
      "text/plain": [
       "Counter({'Maybe': 122, 'Yes': 114, 'No': 52})"
      ]
     },
     "execution_count": 17,
     "metadata": {},
     "output_type": "execute_result"
    }
   ],
   "source": [
    "y_counted"
   ]
  },
  {
   "cell_type": "code",
   "execution_count": null,
   "id": "a59f4b18",
   "metadata": {},
   "outputs": [
    {
     "data": {
      "text/plain": [
       "0.57"
      ]
     },
     "execution_count": 22,
     "metadata": {},
     "output_type": "execute_result"
    }
   ],
   "source": [
    "female_mpv = round(165/288,2)   # * mpv - marginal p value\n",
    "female_mpv"
   ]
  },
  {
   "cell_type": "code",
   "execution_count": 24,
   "id": "197eb1b2",
   "metadata": {},
   "outputs": [
    {
     "data": {
      "text/plain": [
       "0.43"
      ]
     },
     "execution_count": 24,
     "metadata": {},
     "output_type": "execute_result"
    }
   ],
   "source": [
    "male_mpv = round(123/288,2)\n",
    "male_mpv"
   ]
  },
  {
   "cell_type": "code",
   "execution_count": null,
   "id": "dbedca5e",
   "metadata": {},
   "outputs": [],
   "source": []
  }
 ],
 "metadata": {
  "kernelspec": {
   "display_name": "AI+ML_course_amaliyot-8lQVJ-6X",
   "language": "python",
   "name": "python3"
  },
  "language_info": {
   "codemirror_mode": {
    "name": "ipython",
    "version": 3
   },
   "file_extension": ".py",
   "mimetype": "text/x-python",
   "name": "python",
   "nbconvert_exporter": "python",
   "pygments_lexer": "ipython3",
   "version": "3.12.4"
  }
 },
 "nbformat": 4,
 "nbformat_minor": 5
}
