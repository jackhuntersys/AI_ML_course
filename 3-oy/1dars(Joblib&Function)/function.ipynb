{
 "cells": [
  {
   "cell_type": "markdown",
   "metadata": {},
   "source": [
    "# Quyidagi misollarni oddiy va lambda funksiyadan foydalanib bajaring\n",
    "1. [3,5,6] sonlar kvadratlarini yug'indisini topadigan funksiya yozing\n",
    "2. 1 dan 10 gacha bo'lgan sonlar orasidan juftlarini/toqlarini sonini topadigan funksiya yozing\n",
    "3. 1 dan 10 gacha bo'lgan sonlar orasidan o'rta arifmetigi/geometrigini aniqlaydigan topadigan funksiya yozing\n",
    "4. [1,4,6] sonlar orasidan eng katta/kichik va o'rtanchasini topadigan funksiya yozing\n",
    "5. Berilgan so'zdagi unlilar sonini topadigan funksiya yozing"
   ]
  },
  {
   "cell_type": "code",
   "execution_count": null,
   "metadata": {},
   "outputs": [
    {
     "name": "stdout",
     "output_type": "stream",
     "text": [
      "Sum of numbers is equal to 70\n"
     ]
    }
   ],
   "source": [
    "# 1. [3,5,6] sonlar kvadratlarini yug'indisini topadigan funksiya yozing\n",
    "def kv_sum(number_list) :\n",
    "    sum = 0\n",
    "    for num in number_list:\n",
    "        sum+=num**2\n",
    "        \n",
    "    print(f\"Sum of numbers is equal to {sum}\")\n",
    "kv_sum([3,5,6])\n",
    "\n",
    " # ! With lambda function\n",
    " \n",
    "# numbers = [3,5,6]\n",
    "# kv = sum(list(map(lambda x: x**2, numbers)))\n",
    "# print(kv)"
   ]
  },
  {
   "cell_type": "code",
   "execution_count": null,
   "metadata": {},
   "outputs": [
    {
     "name": "stdout",
     "output_type": "stream",
     "text": [
      "Odd numbers list [1, 3, 5, 7, 9]\n",
      "Even numbers list [2, 4, 6, 8, 10]\n"
     ]
    }
   ],
   "source": [
    "# 2. 1 dan 10 gacha bo'lgan sonlar orasidan juftlarini/toqlarini sonini topadigan funksiya yozing\n",
    "odd_numbers = []\n",
    "even_numbers = []\n",
    "numbers_list = range(1,11)\n",
    "# def even_or_odd(n_list):\n",
    "#     for num in n_list:\n",
    "#         if num%2==0:\n",
    "#             even_numbers.append(num)\n",
    "#         else: \n",
    "#             odd_numbers.append(num)\n",
    "\n",
    "# even_or_odd(numbers_list)\n",
    "\n",
    "\n",
    "# ! With Lambda Function\n",
    "\n",
    "odd_numbers = list(filter(lambda x: x%2!=0, numbers_list))\n",
    "even_numbers = list(filter(lambda x: x%2==0, numbers_list))\n",
    "print(f\"Odd numbers list {odd_numbers}\")\n",
    "print(f\"Even numbers list {even_numbers}\")\n",
    "\n",
    "\n",
    "\n",
    "\n"
   ]
  },
  {
   "cell_type": "code",
   "execution_count": 19,
   "metadata": {},
   "outputs": [
    {
     "name": "stdout",
     "output_type": "stream",
     "text": [
      "Arithmetic mean is equal to 5.5\n",
      "Geometric mean is equal to 4.53\n",
      "\n",
      "With Lambda function:\n",
      "Arithmetic mean is equal to 5.5\n",
      "Geometric mean is equal to 4.53\n"
     ]
    }
   ],
   "source": [
    "# 3. 1 dan 10 gacha bo'lgan sonlar orasidan o'rta arifmetigi/geometrigini aniqlaydigan topadigan funksiya yozing\n",
    "import math\n",
    "\n",
    " # ! math.prod() - sonlarni kupaytmasini topadi (product)\n",
    " # ! pow(x,y) - x ni y darajasini qaytaradi\n",
    " # ! round(x,y) - x ni y qiymatga kora yaxlitlaydi\n",
    " # ! *args - fn ga input sifatida ixtiyoriy len() da argument beradi\n",
    "sonlar = range(1,11)\n",
    "def mean(*args):\n",
    "    print(f'Arithmetic mean is equal to {round(sum(args)/len(args),2)}')\n",
    "    print(f'Geometric mean is equal to {round(pow(math.prod(args),1/len(args)),2)}\\n')\n",
    "mean(*sonlar)\n",
    " # ! With Lambda function\n",
    "arith_mean = lambda x: sum(x)/len(x)\n",
    "geo_mean = lambda x:round(pow(math.prod(x), 1/ len(x)),2) \n",
    "\n",
    "print(\"With Lambda function:\")\n",
    "print(f'Arithmetic mean is equal to {arith_mean(sonlar)}')\n",
    "print(f'Geometric mean is equal to {geo_mean(sonlar)}')\n",
    " "
   ]
  },
  {
   "cell_type": "code",
   "execution_count": null,
   "metadata": {},
   "outputs": [
    {
     "name": "stdout",
     "output_type": "stream",
     "text": [
      "6\n",
      "1\n",
      "6\n",
      "4\n"
     ]
    }
   ],
   "source": [
    "# 4. [1,4,6] sonlar orasidan eng katta/kichik va o'rtanchasini topadigan funksiya yozing\n",
    "\n",
    "sonlar = [1,4,6]\n",
    "def compare(sonlar):\n",
    "    higher = sonlar[0]\n",
    "    lower = sonlar[0]\n",
    "   \n",
    "    for i in range(0,len(sonlar)-1):\n",
    "        if  higher<sonlar[i+1]:\n",
    "            higher=sonlar[i+1]\n",
    "        else: \n",
    "            higher=higher\n",
    "        \n",
    "        if lower<sonlar[i+1]:\n",
    "            lower=lower\n",
    "        else:\n",
    "            lower=sonlar[i+1]\n",
    "           \n",
    "        i+=1\n",
    "\n",
    "    print(higher)\n",
    "    print(lower)\n",
    "    \n",
    "  \n",
    "\n",
    "       \n",
    "compare(sonlar)\n"
   ]
  },
  {
   "cell_type": "code",
   "execution_count": null,
   "metadata": {},
   "outputs": [
    {
     "ename": "TypeError",
     "evalue": "unhashable type: 'list'",
     "output_type": "error",
     "traceback": [
      "\u001b[1;31m---------------------------------------------------------------------------\u001b[0m",
      "\u001b[1;31mTypeError\u001b[0m                                 Traceback (most recent call last)",
      "Cell \u001b[1;32mIn[35], line 11\u001b[0m\n\u001b[0;32m      7\u001b[0m     x\u001b[38;5;241m=\u001b[39m re\u001b[38;5;241m.\u001b[39mfindall([\u001b[38;5;124m'\u001b[39m\u001b[38;5;124ma\u001b[39m\u001b[38;5;124m'\u001b[39m,\u001b[38;5;124m'\u001b[39m\u001b[38;5;124mo\u001b[39m\u001b[38;5;124m'\u001b[39m,\u001b[38;5;124m'\u001b[39m\u001b[38;5;124mi\u001b[39m\u001b[38;5;124m'\u001b[39m], text)\n\u001b[0;32m      9\u001b[0m     \u001b[38;5;28mprint\u001b[39m(x)\n\u001b[1;32m---> 11\u001b[0m \u001b[43mfind\u001b[49m\u001b[43m(\u001b[49m\u001b[43mtext\u001b[49m\u001b[43m)\u001b[49m\n",
      "Cell \u001b[1;32mIn[35], line 7\u001b[0m, in \u001b[0;36mfind\u001b[1;34m(text)\u001b[0m\n\u001b[0;32m      6\u001b[0m \u001b[38;5;28;01mdef\u001b[39;00m\u001b[38;5;250m \u001b[39m\u001b[38;5;21mfind\u001b[39m(text):\n\u001b[1;32m----> 7\u001b[0m     x\u001b[38;5;241m=\u001b[39m \u001b[43mre\u001b[49m\u001b[38;5;241;43m.\u001b[39;49m\u001b[43mfindall\u001b[49m\u001b[43m(\u001b[49m\u001b[43m[\u001b[49m\u001b[38;5;124;43m'\u001b[39;49m\u001b[38;5;124;43ma\u001b[39;49m\u001b[38;5;124;43m'\u001b[39;49m\u001b[43m,\u001b[49m\u001b[38;5;124;43m'\u001b[39;49m\u001b[38;5;124;43mo\u001b[39;49m\u001b[38;5;124;43m'\u001b[39;49m\u001b[43m,\u001b[49m\u001b[38;5;124;43m'\u001b[39;49m\u001b[38;5;124;43mi\u001b[39;49m\u001b[38;5;124;43m'\u001b[39;49m\u001b[43m]\u001b[49m\u001b[43m,\u001b[49m\u001b[43m \u001b[49m\u001b[43mtext\u001b[49m\u001b[43m)\u001b[49m\n\u001b[0;32m      9\u001b[0m     \u001b[38;5;28mprint\u001b[39m(x)\n",
      "File \u001b[1;32mC:\\Program Files\\Python312\\Lib\\re\\__init__.py:217\u001b[0m, in \u001b[0;36mfindall\u001b[1;34m(pattern, string, flags)\u001b[0m\n\u001b[0;32m    209\u001b[0m \u001b[38;5;28;01mdef\u001b[39;00m\u001b[38;5;250m \u001b[39m\u001b[38;5;21mfindall\u001b[39m(pattern, string, flags\u001b[38;5;241m=\u001b[39m\u001b[38;5;241m0\u001b[39m):\n\u001b[0;32m    210\u001b[0m \u001b[38;5;250m    \u001b[39m\u001b[38;5;124;03m\"\"\"Return a list of all non-overlapping matches in the string.\u001b[39;00m\n\u001b[0;32m    211\u001b[0m \n\u001b[0;32m    212\u001b[0m \u001b[38;5;124;03m    If one or more capturing groups are present in the pattern, return\u001b[39;00m\n\u001b[1;32m   (...)\u001b[0m\n\u001b[0;32m    215\u001b[0m \n\u001b[0;32m    216\u001b[0m \u001b[38;5;124;03m    Empty matches are included in the result.\"\"\"\u001b[39;00m\n\u001b[1;32m--> 217\u001b[0m     \u001b[38;5;28;01mreturn\u001b[39;00m \u001b[43m_compile\u001b[49m\u001b[43m(\u001b[49m\u001b[43mpattern\u001b[49m\u001b[43m,\u001b[49m\u001b[43m \u001b[49m\u001b[43mflags\u001b[49m\u001b[43m)\u001b[49m\u001b[38;5;241m.\u001b[39mfindall(string)\n",
      "File \u001b[1;32mC:\\Program Files\\Python312\\Lib\\re\\__init__.py:285\u001b[0m, in \u001b[0;36m_compile\u001b[1;34m(pattern, flags)\u001b[0m\n\u001b[0;32m    283\u001b[0m     flags \u001b[38;5;241m=\u001b[39m flags\u001b[38;5;241m.\u001b[39mvalue\n\u001b[0;32m    284\u001b[0m \u001b[38;5;28;01mtry\u001b[39;00m:\n\u001b[1;32m--> 285\u001b[0m     \u001b[38;5;28;01mreturn\u001b[39;00m \u001b[43m_cache2\u001b[49m\u001b[43m[\u001b[49m\u001b[38;5;28;43mtype\u001b[39;49m\u001b[43m(\u001b[49m\u001b[43mpattern\u001b[49m\u001b[43m)\u001b[49m\u001b[43m,\u001b[49m\u001b[43m \u001b[49m\u001b[43mpattern\u001b[49m\u001b[43m,\u001b[49m\u001b[43m \u001b[49m\u001b[43mflags\u001b[49m\u001b[43m]\u001b[49m\n\u001b[0;32m    286\u001b[0m \u001b[38;5;28;01mexcept\u001b[39;00m \u001b[38;5;167;01mKeyError\u001b[39;00m:\n\u001b[0;32m    287\u001b[0m     \u001b[38;5;28;01mpass\u001b[39;00m\n",
      "\u001b[1;31mTypeError\u001b[0m: unhashable type: 'list'"
     ]
    }
   ],
   "source": [
    "# 5. Berilgan so'zdagi unlilar sonini topadigan funksiya yozing\n",
    "import re\n",
    "text = \"Berilgan so'zdagi unlilar sonini topadigan funksiya yozing\"\n",
    "unlilar = ['a','o','i']\n",
    "\n",
    "def find(text):\n",
    "    x= re.findall(['a','o','i'], text)\n",
    "\n",
    "    print(x)\n",
    "\n"
   ]
  },
  {
   "cell_type": "code",
   "execution_count": null,
   "metadata": {},
   "outputs": [],
   "source": []
  }
 ],
 "metadata": {
  "kernelspec": {
   "display_name": "AI+ML_course_amaliyot-8lQVJ-6X",
   "language": "python",
   "name": "python3"
  },
  "language_info": {
   "codemirror_mode": {
    "name": "ipython",
    "version": 3
   },
   "file_extension": ".py",
   "mimetype": "text/x-python",
   "name": "python",
   "nbconvert_exporter": "python",
   "pygments_lexer": "ipython3",
   "version": "3.12.4"
  }
 },
 "nbformat": 4,
 "nbformat_minor": 2
}
