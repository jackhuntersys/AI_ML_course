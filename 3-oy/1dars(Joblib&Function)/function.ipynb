{
 "cells": [
  {
   "cell_type": "markdown",
   "metadata": {},
   "source": [
    "# Quyidagi misollarni oddiy va lambda funksiyadan foydalanib bajaring\n",
    "1. [3,5,6] sonlar kvadratlarini yug'indisini topadigan funksiya yozing\n",
    "2. 1 dan 10 gacha bo'lgan sonlar orasidan juftlarini/toqlarini sonini topadigan funksiya yozing\n",
    "3. 1 dan 10 gacha bo'lgan sonlar orasidan o'rta arifmetigi/geometrigini aniqlaydigan topadigan funksiya yozing\n",
    "4. [1,4,6] sonlar orasidan eng katta/kichik va o'rtanchasini topadigan funksiya yozing\n",
    "5. Berilgan so'zdagi unlilar sonini topadigan funksiya yozing"
   ]
  },
  {
   "cell_type": "code",
   "execution_count": null,
   "metadata": {},
   "outputs": [
    {
     "name": "stdout",
     "output_type": "stream",
     "text": [
      "Sum of numbers is equal to 70\n"
     ]
    }
   ],
   "source": [
    "# 1. [3,5,6] sonlar kvadratlarini yug'indisini topadigan funksiya yozing\n",
    "def kv_sum(number_list) :\n",
    "    sum = 0\n",
    "    for num in number_list:\n",
    "        sum+=num**2\n",
    "        \n",
    "    print(f\"Sum of numbers is equal to {sum}\")\n",
    "kv_sum([3,5,6])\n",
    "\n",
    " # ! With lambda function\n",
    " \n",
    "# numbers = [3,5,6]\n",
    "# kv = sum(list(map(lambda x: x**2, numbers)))\n",
    "# print(kv)"
   ]
  },
  {
   "cell_type": "code",
   "execution_count": null,
   "metadata": {},
   "outputs": [
    {
     "name": "stdout",
     "output_type": "stream",
     "text": [
      "Odd numbers list [1, 3, 5, 7, 9]\n",
      "Even numbers list [2, 4, 6, 8, 10]\n"
     ]
    }
   ],
   "source": [
    "# 2. 1 dan 10 gacha bo'lgan sonlar orasidan juftlarini/toqlarini sonini topadigan funksiya yozing\n",
    "odd_numbers = []\n",
    "even_numbers = []\n",
    "numbers_list = range(1,11)\n",
    "# def even_or_odd(n_list):\n",
    "#     for num in n_list:\n",
    "#         if num%2==0:\n",
    "#             even_numbers.append(num)\n",
    "#         else: \n",
    "#             odd_numbers.append(num)\n",
    "\n",
    "# even_or_odd(numbers_list)\n",
    "\n",
    "\n",
    "# ! With Lambda Function\n",
    "\n",
    "odd_numbers = list(filter(lambda x: x%2!=0, numbers_list))\n",
    "even_numbers = list(filter(lambda x: x%2==0, numbers_list))\n",
    "print(f\"Odd numbers list {odd_numbers}\")\n",
    "print(f\"Even numbers list {even_numbers}\")\n",
    "\n",
    "\n",
    "\n",
    "\n"
   ]
  },
  {
   "cell_type": "code",
   "execution_count": 19,
   "metadata": {},
   "outputs": [
    {
     "name": "stdout",
     "output_type": "stream",
     "text": [
      "Arithmetic mean is equal to 5.5\n",
      "Geometric mean is equal to 4.53\n",
      "\n",
      "With Lambda function:\n",
      "Arithmetic mean is equal to 5.5\n",
      "Geometric mean is equal to 4.53\n"
     ]
    }
   ],
   "source": [
    "# 3. 1 dan 10 gacha bo'lgan sonlar orasidan o'rta arifmetigi/geometrigini aniqlaydigan topadigan funksiya yozing\n",
    "import math\n",
    "\n",
    " # ! math.prod() - sonlarni kupaytmasini topadi (product)\n",
    " # ! pow(x,y) - x ni y darajasini qaytaradi\n",
    " # ! round(x,y) - x ni y qiymatga kora yaxlitlaydi\n",
    " # ! *args - fn ga input sifatida ixtiyoriy len() da argument beradi\n",
    "sonlar = range(1,11)\n",
    "def mean(*args):\n",
    "    print(f'Arithmetic mean is equal to {round(sum(args)/len(args),2)}')\n",
    "    print(f'Geometric mean is equal to {round(pow(math.prod(args),1/len(args)),2)}\\n')\n",
    "mean(*sonlar)\n",
    " # ! With Lambda function\n",
    "arith_mean = lambda x: sum(x)/len(x)\n",
    "geo_mean = lambda x:round(pow(math.prod(x), 1/ len(x)),2) \n",
    "\n",
    "print(\"With Lambda function:\")\n",
    "print(f'Arithmetic mean is equal to {arith_mean(sonlar)}')\n",
    "print(f'Geometric mean is equal to {geo_mean(sonlar)}')\n",
    " "
   ]
  },
  {
   "cell_type": "code",
   "execution_count": null,
   "metadata": {},
   "outputs": [
    {
     "name": "stdout",
     "output_type": "stream",
     "text": [
      "6\n",
      "1\n",
      "6\n",
      "4\n"
     ]
    }
   ],
   "source": [
    "# 4. [1,4,6] sonlar orasidan eng katta/kichik va o'rtanchasini topadigan funksiya yozing\n",
    "\n",
    "sonlar = [1,4,6]\n",
    "def compare(sonlar):\n",
    "    higher = sonlar[0]\n",
    "    lower = sonlar[0]\n",
    "   \n",
    "    for i in range(0,len(sonlar)-1):\n",
    "        if  higher<sonlar[i+1]:\n",
    "            higher=sonlar[i+1]\n",
    "        else: \n",
    "            higher=higher\n",
    "        \n",
    "        if lower<sonlar[i+1]:\n",
    "            lower=lower\n",
    "        else:\n",
    "            lower=sonlar[i+1]\n",
    "           \n",
    "        i+=1\n",
    "\n",
    "    print(higher)\n",
    "    print(lower)\n",
    "    \n",
    "  \n",
    "\n",
    "       \n",
    "compare(sonlar)\n"
   ]
  },
  {
   "cell_type": "code",
   "execution_count": null,
   "metadata": {},
   "outputs": [],
   "source": [
    "# 5. Berilgan so'zdagi unlilar sonini topadigan funksiya yozing\n"
   ]
  },
  {
   "cell_type": "code",
   "execution_count": null,
   "metadata": {},
   "outputs": [],
   "source": []
  }
 ],
 "metadata": {
  "kernelspec": {
   "display_name": "AI+ML_course_amaliyot-8lQVJ-6X",
   "language": "python",
   "name": "python3"
  },
  "language_info": {
   "codemirror_mode": {
    "name": "ipython",
    "version": 3
   },
   "file_extension": ".py",
   "mimetype": "text/x-python",
   "name": "python",
   "nbconvert_exporter": "python",
   "pygments_lexer": "ipython3",
   "version": "3.12.4"
  }
 },
 "nbformat": 4,
 "nbformat_minor": 2
}
